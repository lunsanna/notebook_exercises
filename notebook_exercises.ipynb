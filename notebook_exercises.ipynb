{
 "cells": [
  {
   "cell_type": "markdown",
   "metadata": {},
   "source": [
    "## Jupyter Notebook example\n",
    "\n",
    "Follow instructions and fill in where required. Do not modify anything else than what you are asked to."
   ]
  },
  {
   "cell_type": "markdown",
   "metadata": {},
   "source": [
    "## Table of Contents\n",
    "\n",
    "* [1. Shell commands and line magics](#shellmagic)\n",
    "* [2. Latex for formulas](#latex)\n",
    "* [3. Interactive widget](#interactive)\n",
    "* [4. Git](#git)"
   ]
  },
  {
   "cell_type": "markdown",
   "metadata": {},
   "source": [
    "### 1. Shell commands and line magics <a class=\"anchor\" id=\"shellmagic\"></a>\n",
    "\n",
    "1.1. In code cell below, run a shell command to print your working directory.\n",
    "\n",
    "1.2. Using a line magic create an alias called \"hello\" for command \"echo \"¡Hola mundo!\"\" and test it. Your answer should contain one line for creating alias and one line for using the alias."
   ]
  },
  {
   "cell_type": "code",
   "execution_count": 3,
   "metadata": {},
   "outputs": [
    {
     "name": "stdout",
     "output_type": "stream",
     "text": [
      "¡Hola mundo!\n"
     ]
    }
   ],
   "source": [
    "# Exercise 1.1. here:\n",
    "%pwd\n",
    "# Exercise 1.2. here:\n",
    "%alias hello echo \"¡Hola mundo!\"\n",
    "%hello"
   ]
  },
  {
   "cell_type": "markdown",
   "metadata": {},
   "source": [
    "### 2. Markdown text <a class=\"anchor\" id=\"latex\"></a>\n",
    "\n",
    "Different kind of text can be added into markdown cells. [Here](https://jupyter-notebook.readthedocs.io/en/stable/examples/Notebook/Working%20With%20Markdown%20Cells.html) is a good source into Markdown basics.\n",
    "\n",
    "2.1. In markdown cell below display Pythagorean theorem using LaTex syntax.\n",
    "\n",
    "2.2. Display a Python function called \"hello\" that returns \"Hallo Welt!\". Use Github flavored markdown. (You may use some other programming language here if you wish)"
   ]
  },
  {
   "cell_type": "markdown",
   "metadata": {},
   "source": [
    "2.1. here:\n",
    "$$\n",
    "a^2 + b^2 = c^2\n",
    "$$\n",
    "\n",
    "2.2. here:\n",
    "```python\n",
    "def hello ():\n",
    "    return \"Hallo Welt!\"\n",
    "```"
   ]
  },
  {
   "cell_type": "markdown",
   "metadata": {},
   "source": [
    "### 3. Interactive widget <a class=\"anchor\" id=\"interactive\"></a>\n",
    "\n",
    "In the program below we want to investigate a set of movie reviews and see what are the most frequent words there. We are not interested in seeing punctuation marks or the clearly most common words referred as stopwords. \n",
    "\n",
    "3.1. Run the code and investigate the output. In the marked codeline there is something wrong that causes wrong output. Can you figure out what to add to display correct words?\n",
    "\n",
    "3.2. Use the @interact decorator at the end of the program to range displaying 5 to 10 most frequent words. You can see an example of the usage of the decorator [here](https://coderefinery.github.io/jupyter/examples/#widgets-for-interactive-data-fitting)"
   ]
  },
  {
   "cell_type": "code",
   "execution_count": 6,
   "metadata": {},
   "outputs": [],
   "source": [
    "# Notice!: \n",
    "# For ModuleNotFoundError: No module named 'nltk' you need to pip install nltk to your environment\n",
    "# For ModuleNotFoundError: No module named 'ipywidgets' you need to pip install ipywidgets to your environment\n",
    "# To install nltk data sets movie_reviews and stopwords you need to install the data sets with nltk.download. \n",
    "# See examples: https://www.nltk.org/data.html\n",
    "# Do that here:\n",
    "import nltk"
   ]
  },
  {
   "cell_type": "code",
   "execution_count": 13,
   "metadata": {},
   "outputs": [
    {
     "name": "stderr",
     "output_type": "stream",
     "text": [
      "[nltk_data] Downloading package movie_reviews to\n",
      "[nltk_data]     /Users/sanna/nltk_data...\n",
      "[nltk_data]   Unzipping corpora/movie_reviews.zip.\n"
     ]
    },
    {
     "data": {
      "text/plain": [
       "True"
      ]
     },
     "execution_count": 13,
     "metadata": {},
     "output_type": "execute_result"
    }
   ],
   "source": [
    "nltk.download('movie_reviews')"
   ]
  },
  {
   "cell_type": "code",
   "execution_count": 17,
   "metadata": {},
   "outputs": [
    {
     "data": {
      "application/vnd.jupyter.widget-view+json": {
       "model_id": "ed0c47b4ebca4232b7c6529cfc1c1092",
       "version_major": 2,
       "version_minor": 0
      },
      "text/plain": [
       "interactive(children=(IntSlider(value=7, description='n', max=10, min=5), Output()), _dom_classes=('widget-int…"
      ]
     },
     "metadata": {},
     "output_type": "display_data"
    }
   ],
   "source": [
    "from nltk import FreqDist\n",
    "from nltk import RegexpTokenizer\n",
    "from nltk.corpus import movie_reviews\n",
    "from nltk.corpus import stopwords \n",
    "from ipywidgets import interact\n",
    "\n",
    "tokenizer = RegexpTokenizer(r\"\\w+\")\n",
    "word_tokens = tokenizer.tokenize(movie_reviews.raw())\n",
    "\n",
    "stop_words = set(stopwords.words('english'))\n",
    "\n",
    "# Exercise 3.1. below: \n",
    "filtered_words = [w for w in word_tokens if w not in stop_words]\n",
    "\n",
    "fd = FreqDist(filtered_words)\n",
    "# fd.plot(5)\n",
    "\n",
    "# Exercise 3.2. here:\n",
    "@interact\n",
    "def slider(n=(5,10)):\n",
    "    fd.plot(n)"
   ]
  },
  {
   "cell_type": "markdown",
   "metadata": {},
   "source": [
    "### 4. Git <a class=\"anchor\" id=\"git\"></a>\n",
    "\n",
    "Follow [these](https://coderefinery.github.io/jupyter/version-control/) instructions to save this notebook and create a repository for it. After you have done this, paste the repository url in the cell below. Please make your repository public on Github so that your reviewer is able to assess this exercise."
   ]
  },
  {
   "cell_type": "code",
   "execution_count": 52,
   "metadata": {},
   "outputs": [],
   "source": [
    "# Paste your repository url here: \n",
    "# "
   ]
  },
  {
   "cell_type": "code",
   "execution_count": 19,
   "metadata": {},
   "outputs": [
    {
     "name": "stdout",
     "output_type": "stream",
     "text": [
      "Collecting jupyterlab-git\n",
      "  Downloading jupyterlab_git-0.41.0-py3-none-any.whl (1.3 MB)\n",
      "\u001b[2K     \u001b[38;2;114;156;31m━━━━━━━━━━━━━━━━━━━━━━━━━━━━━━━━━━━━━━━━\u001b[0m \u001b[32m1.3/1.3 MB\u001b[0m \u001b[31m5.9 MB/s\u001b[0m eta \u001b[36m0:00:00\u001b[0mm eta \u001b[36m0:00:01\u001b[0m0:01\u001b[0m:01\u001b[0m\n",
      "\u001b[?25hRequirement already satisfied: nbformat in /Users/sanna/opt/anaconda3/envs/basic/lib/python3.10/site-packages (from jupyterlab-git) (5.7.0)\n",
      "Requirement already satisfied: nbdime~=3.1 in /Users/sanna/opt/anaconda3/envs/basic/lib/python3.10/site-packages (from jupyterlab-git) (3.2.1)\n",
      "Requirement already satisfied: pexpect in /Users/sanna/opt/anaconda3/envs/basic/lib/python3.10/site-packages (from jupyterlab-git) (4.8.0)\n",
      "Requirement already satisfied: jupyter-server<3,>=1.21.0 in /Users/sanna/opt/anaconda3/envs/basic/lib/python3.10/site-packages (from jupyterlab-git) (1.23.4)\n",
      "Requirement already satisfied: traitlets~=5.0 in /Users/sanna/opt/anaconda3/envs/basic/lib/python3.10/site-packages (from jupyterlab-git) (5.7.1)\n",
      "Requirement already satisfied: packaging in /Users/sanna/opt/anaconda3/envs/basic/lib/python3.10/site-packages (from jupyterlab-git) (23.0)\n",
      "Requirement already satisfied: jinja2 in /Users/sanna/opt/anaconda3/envs/basic/lib/python3.10/site-packages (from jupyter-server<3,>=1.21.0->jupyterlab-git) (3.1.2)\n",
      "Requirement already satisfied: terminado>=0.8.3 in /Users/sanna/opt/anaconda3/envs/basic/lib/python3.10/site-packages (from jupyter-server<3,>=1.21.0->jupyterlab-git) (0.17.1)\n",
      "Requirement already satisfied: argon2-cffi in /Users/sanna/opt/anaconda3/envs/basic/lib/python3.10/site-packages (from jupyter-server<3,>=1.21.0->jupyterlab-git) (21.3.0)\n",
      "Requirement already satisfied: anyio<4,>=3.1.0 in /Users/sanna/opt/anaconda3/envs/basic/lib/python3.10/site-packages (from jupyter-server<3,>=1.21.0->jupyterlab-git) (3.5.0)\n",
      "Requirement already satisfied: tornado>=6.1.0 in /Users/sanna/opt/anaconda3/envs/basic/lib/python3.10/site-packages (from jupyter-server<3,>=1.21.0->jupyterlab-git) (6.2)\n",
      "Requirement already satisfied: jupyter-core>=4.7.0 in /Users/sanna/opt/anaconda3/envs/basic/lib/python3.10/site-packages (from jupyter-server<3,>=1.21.0->jupyterlab-git) (5.3.0)\n",
      "Requirement already satisfied: jupyter-client>=6.1.12 in /Users/sanna/opt/anaconda3/envs/basic/lib/python3.10/site-packages (from jupyter-server<3,>=1.21.0->jupyterlab-git) (8.1.0)\n",
      "Requirement already satisfied: nbconvert>=6.4.4 in /Users/sanna/opt/anaconda3/envs/basic/lib/python3.10/site-packages (from jupyter-server<3,>=1.21.0->jupyterlab-git) (6.5.4)\n",
      "Requirement already satisfied: Send2Trash in /Users/sanna/opt/anaconda3/envs/basic/lib/python3.10/site-packages (from jupyter-server<3,>=1.21.0->jupyterlab-git) (1.8.0)\n",
      "Requirement already satisfied: websocket-client in /Users/sanna/opt/anaconda3/envs/basic/lib/python3.10/site-packages (from jupyter-server<3,>=1.21.0->jupyterlab-git) (0.58.0)\n",
      "Requirement already satisfied: pyzmq>=17 in /Users/sanna/opt/anaconda3/envs/basic/lib/python3.10/site-packages (from jupyter-server<3,>=1.21.0->jupyterlab-git) (25.0.2)\n",
      "Requirement already satisfied: prometheus-client in /Users/sanna/opt/anaconda3/envs/basic/lib/python3.10/site-packages (from jupyter-server<3,>=1.21.0->jupyterlab-git) (0.14.1)\n",
      "Requirement already satisfied: GitPython!=2.1.4,!=2.1.5,!=2.1.6 in /Users/sanna/opt/anaconda3/envs/basic/lib/python3.10/site-packages (from nbdime~=3.1->jupyterlab-git) (3.1.31)\n",
      "Requirement already satisfied: pygments in /Users/sanna/opt/anaconda3/envs/basic/lib/python3.10/site-packages (from nbdime~=3.1->jupyterlab-git) (2.11.2)\n",
      "Requirement already satisfied: jupyter-server-mathjax>=0.2.2 in /Users/sanna/opt/anaconda3/envs/basic/lib/python3.10/site-packages (from nbdime~=3.1->jupyterlab-git) (0.2.6)\n",
      "Requirement already satisfied: requests in /Users/sanna/opt/anaconda3/envs/basic/lib/python3.10/site-packages (from nbdime~=3.1->jupyterlab-git) (2.29.0)\n",
      "Requirement already satisfied: colorama in /Users/sanna/opt/anaconda3/envs/basic/lib/python3.10/site-packages (from nbdime~=3.1->jupyterlab-git) (0.4.6)\n",
      "Requirement already satisfied: fastjsonschema in /Users/sanna/opt/anaconda3/envs/basic/lib/python3.10/site-packages (from nbformat->jupyterlab-git) (2.16.2)\n",
      "Requirement already satisfied: jsonschema>=2.6 in /Users/sanna/opt/anaconda3/envs/basic/lib/python3.10/site-packages (from nbformat->jupyterlab-git) (4.17.3)\n",
      "Requirement already satisfied: ptyprocess>=0.5 in /Users/sanna/opt/anaconda3/envs/basic/lib/python3.10/site-packages (from pexpect->jupyterlab-git) (0.7.0)\n",
      "Requirement already satisfied: idna>=2.8 in /Users/sanna/opt/anaconda3/envs/basic/lib/python3.10/site-packages (from anyio<4,>=3.1.0->jupyter-server<3,>=1.21.0->jupyterlab-git) (3.4)\n",
      "Requirement already satisfied: sniffio>=1.1 in /Users/sanna/opt/anaconda3/envs/basic/lib/python3.10/site-packages (from anyio<4,>=3.1.0->jupyter-server<3,>=1.21.0->jupyterlab-git) (1.2.0)\n",
      "Requirement already satisfied: gitdb<5,>=4.0.1 in /Users/sanna/opt/anaconda3/envs/basic/lib/python3.10/site-packages (from GitPython!=2.1.4,!=2.1.5,!=2.1.6->nbdime~=3.1->jupyterlab-git) (4.0.10)\n",
      "Requirement already satisfied: MarkupSafe>=2.0 in /Users/sanna/opt/anaconda3/envs/basic/lib/python3.10/site-packages (from jinja2->jupyter-server<3,>=1.21.0->jupyterlab-git) (2.1.1)\n",
      "Requirement already satisfied: pyrsistent!=0.17.0,!=0.17.1,!=0.17.2,>=0.14.0 in /Users/sanna/opt/anaconda3/envs/basic/lib/python3.10/site-packages (from jsonschema>=2.6->nbformat->jupyterlab-git) (0.18.0)\n",
      "Requirement already satisfied: attrs>=17.4.0 in /Users/sanna/opt/anaconda3/envs/basic/lib/python3.10/site-packages (from jsonschema>=2.6->nbformat->jupyterlab-git) (22.1.0)\n",
      "Requirement already satisfied: python-dateutil>=2.8.2 in /Users/sanna/opt/anaconda3/envs/basic/lib/python3.10/site-packages (from jupyter-client>=6.1.12->jupyter-server<3,>=1.21.0->jupyterlab-git) (2.8.2)\n",
      "Requirement already satisfied: platformdirs>=2.5 in /Users/sanna/opt/anaconda3/envs/basic/lib/python3.10/site-packages (from jupyter-core>=4.7.0->jupyter-server<3,>=1.21.0->jupyterlab-git) (2.5.2)\n",
      "Requirement already satisfied: bleach in /Users/sanna/opt/anaconda3/envs/basic/lib/python3.10/site-packages (from nbconvert>=6.4.4->jupyter-server<3,>=1.21.0->jupyterlab-git) (4.1.0)\n",
      "Requirement already satisfied: jupyterlab-pygments in /Users/sanna/opt/anaconda3/envs/basic/lib/python3.10/site-packages (from nbconvert>=6.4.4->jupyter-server<3,>=1.21.0->jupyterlab-git) (0.1.2)\n",
      "Requirement already satisfied: tinycss2 in /Users/sanna/opt/anaconda3/envs/basic/lib/python3.10/site-packages (from nbconvert>=6.4.4->jupyter-server<3,>=1.21.0->jupyterlab-git) (1.2.1)\n",
      "Requirement already satisfied: nbclient>=0.5.0 in /Users/sanna/opt/anaconda3/envs/basic/lib/python3.10/site-packages (from nbconvert>=6.4.4->jupyter-server<3,>=1.21.0->jupyterlab-git) (0.5.13)\n",
      "Requirement already satisfied: lxml in /Users/sanna/opt/anaconda3/envs/basic/lib/python3.10/site-packages (from nbconvert>=6.4.4->jupyter-server<3,>=1.21.0->jupyterlab-git) (4.9.2)\n",
      "Requirement already satisfied: pandocfilters>=1.4.1 in /Users/sanna/opt/anaconda3/envs/basic/lib/python3.10/site-packages (from nbconvert>=6.4.4->jupyter-server<3,>=1.21.0->jupyterlab-git) (1.5.0)\n",
      "Requirement already satisfied: mistune<2,>=0.8.1 in /Users/sanna/opt/anaconda3/envs/basic/lib/python3.10/site-packages (from nbconvert>=6.4.4->jupyter-server<3,>=1.21.0->jupyterlab-git) (0.8.4)\n",
      "Requirement already satisfied: beautifulsoup4 in /Users/sanna/opt/anaconda3/envs/basic/lib/python3.10/site-packages (from nbconvert>=6.4.4->jupyter-server<3,>=1.21.0->jupyterlab-git) (4.12.2)\n",
      "Requirement already satisfied: entrypoints>=0.2.2 in /Users/sanna/opt/anaconda3/envs/basic/lib/python3.10/site-packages (from nbconvert>=6.4.4->jupyter-server<3,>=1.21.0->jupyterlab-git) (0.4)\n",
      "Requirement already satisfied: defusedxml in /Users/sanna/opt/anaconda3/envs/basic/lib/python3.10/site-packages (from nbconvert>=6.4.4->jupyter-server<3,>=1.21.0->jupyterlab-git) (0.7.1)\n",
      "Requirement already satisfied: argon2-cffi-bindings in /Users/sanna/opt/anaconda3/envs/basic/lib/python3.10/site-packages (from argon2-cffi->jupyter-server<3,>=1.21.0->jupyterlab-git) (21.2.0)\n",
      "Requirement already satisfied: charset-normalizer<4,>=2 in /Users/sanna/opt/anaconda3/envs/basic/lib/python3.10/site-packages (from requests->nbdime~=3.1->jupyterlab-git) (2.0.4)\n",
      "Requirement already satisfied: certifi>=2017.4.17 in /Users/sanna/opt/anaconda3/envs/basic/lib/python3.10/site-packages (from requests->nbdime~=3.1->jupyterlab-git) (2022.12.7)\n",
      "Requirement already satisfied: urllib3<1.27,>=1.21.1 in /Users/sanna/opt/anaconda3/envs/basic/lib/python3.10/site-packages (from requests->nbdime~=3.1->jupyterlab-git) (1.26.15)\n",
      "Requirement already satisfied: six in /Users/sanna/opt/anaconda3/envs/basic/lib/python3.10/site-packages (from websocket-client->jupyter-server<3,>=1.21.0->jupyterlab-git) (1.16.0)\n",
      "Requirement already satisfied: smmap<6,>=3.0.1 in /Users/sanna/opt/anaconda3/envs/basic/lib/python3.10/site-packages (from gitdb<5,>=4.0.1->GitPython!=2.1.4,!=2.1.5,!=2.1.6->nbdime~=3.1->jupyterlab-git) (5.0.0)\n",
      "Requirement already satisfied: nest-asyncio in /Users/sanna/opt/anaconda3/envs/basic/lib/python3.10/site-packages (from nbclient>=0.5.0->nbconvert>=6.4.4->jupyter-server<3,>=1.21.0->jupyterlab-git) (1.5.6)\n",
      "Requirement already satisfied: cffi>=1.0.1 in /Users/sanna/opt/anaconda3/envs/basic/lib/python3.10/site-packages (from argon2-cffi-bindings->argon2-cffi->jupyter-server<3,>=1.21.0->jupyterlab-git) (1.15.1)\n",
      "Requirement already satisfied: soupsieve>1.2 in /Users/sanna/opt/anaconda3/envs/basic/lib/python3.10/site-packages (from beautifulsoup4->nbconvert>=6.4.4->jupyter-server<3,>=1.21.0->jupyterlab-git) (2.4)\n",
      "Requirement already satisfied: webencodings in /Users/sanna/opt/anaconda3/envs/basic/lib/python3.10/site-packages (from bleach->nbconvert>=6.4.4->jupyter-server<3,>=1.21.0->jupyterlab-git) (0.5.1)\n",
      "Requirement already satisfied: pycparser in /Users/sanna/opt/anaconda3/envs/basic/lib/python3.10/site-packages (from cffi>=1.0.1->argon2-cffi-bindings->argon2-cffi->jupyter-server<3,>=1.21.0->jupyterlab-git) (2.21)\n",
      "Installing collected packages: jupyterlab-git\n",
      "Successfully installed jupyterlab-git-0.41.0\n"
     ]
    }
   ],
   "source": []
  },
  {
   "cell_type": "code",
   "execution_count": null,
   "metadata": {},
   "outputs": [],
   "source": []
  }
 ],
 "metadata": {
  "kernelspec": {
   "display_name": "Python 3 (ipykernel)",
   "language": "python",
   "name": "python3"
  },
  "language_info": {
   "codemirror_mode": {
    "name": "ipython",
    "version": 3
   },
   "file_extension": ".py",
   "mimetype": "text/x-python",
   "name": "python",
   "nbconvert_exporter": "python",
   "pygments_lexer": "ipython3",
   "version": "3.10.11"
  }
 },
 "nbformat": 4,
 "nbformat_minor": 4
}
